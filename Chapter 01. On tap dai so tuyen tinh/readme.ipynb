{
 "metadata": {
  "language_info": {
   "codemirror_mode": {
    "name": "ipython",
    "version": 3
   },
   "file_extension": ".py",
   "mimetype": "text/x-python",
   "name": "python",
   "nbconvert_exporter": "python",
   "pygments_lexer": "ipython3",
   "version": "3.8.5"
  },
  "orig_nbformat": 2,
  "kernelspec": {
   "name": "python3",
   "display_name": "Python 3",
   "language": "python"
  }
 },
 "nbformat": 4,
 "nbformat_minor": 2,
 "cells": [
  {
   "source": [
    "# 1. Lưu ý về kí hiệu\n",
    "* Số vô hướng - chữ cái in nghiêng: $\\mathit{x_1, N, y, k}$.\n",
    "* Vector - chữ thường in đậm: $\\mathbf{y, x_1}$.\n",
    "  * **Vector hàng**: $\\mathbf{x} = [x_1, x_2,...,x_n]$.\n",
    "  * **Vector cột**: $\\mathbf{x} = [x_1;x_2;...;x_n]$.\n",
    "  * **LƯU Ý**: Nếu không nói gì thêm, các vector dc mặc định là **vector cột**.\n",
    "* Ma trận - chữ hoa in đậm: $\\mathbf{X, Y, W}$.\n",
    "  * Ma trận được tạo thành từ các **vector cột** theo thứ tự **trái qua phải**: $\\mathbf{X = [x_1, x_2,...,x_n]}$.\n",
    "  * Ma trận đuôc tạo thành từ các **vector hàng** theo thứ tự **trên xuống dưới**: $\\mathbf{X = [x_1;x_2;...;x_n]}$.\n",
    "  * Phần tử nằm ở dòng $i$ cột $j$ của ma trận kí hiệu là $x_{ij}$.\n",
    "  * **LƯU Ý**: Cho ma trận $\\mathbf{W}$, nếu không nói gì thêm thì $\\mathbf{w_i}$ được hiểu là **vector cột** thứ $i$ của ma trận $\\mathbf{W}$."
   ],
   "cell_type": "markdown",
   "metadata": {}
  },
  {
   "source": [
    "# 2. Chuyển vị và Hermitian\n",
    "* Tên tiếng anh là **transpose**.\n",
    "* Cho: $\\mathbf"
   ],
   "cell_type": "markdown",
   "metadata": {}
  },
  {
   "cell_type": "code",
   "execution_count": null,
   "metadata": {},
   "outputs": [],
   "source": []
  }
 ]
}