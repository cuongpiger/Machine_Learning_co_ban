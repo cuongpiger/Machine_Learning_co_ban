{
 "cells": [
  {
   "cell_type": "markdown",
   "source": [
    "* Xét hàm số $f(x) = x^2 + 5\\sin(x)$ với đạo hàm $f'(x) = 2x + 5\\cos(x)$.\n",
    "* Giả sử bắt đầu từ một điểm $x_0$ nào đó, tại vòng lặp thứ $t$, chúng ta sẽ cập nhật như sau:\n",
    "  $$x_{t + 1} = x_t - \\boldsymbol{n}(2x_t + 5\\cos(x_t))$$"
   ],
   "metadata": {}
  },
  {
   "cell_type": "code",
   "execution_count": 1,
   "source": [
    "import numpy as np\n",
    "\n",
    "# Dùng để tính đạo hàm\n",
    "def grad(x):\n",
    "    return 2*x + 5*np.cos(x)\n",
    "\n",
    "# Tính giá trị của hàm số. Dùng để kiểm tra giá trị của đạo hàm có giảm qua mỗi lần lặp ko\n",
    "def cost(x):\n",
    "    return x**2 + 5*np.sin(x)\n",
    "\n",
    "# Hàm gradient descent\n",
    "def myGD1(x0, eta):\n",
    "    \"\"\"\n",
    "    Args:\n",
    "        x0 ([type]): giá trị x đầu vào\n",
    "        eta ([type]): learning rate\n",
    "    \"\"\"\n",
    "    x = [x0]\n",
    "    for it in range(100):\n",
    "        x_new = x[-1] - eta*grad(x[-1])\n",
    "        \n",
    "        if abs(grad(x_new)) < 1e-3:\n",
    "            break\n",
    "        \n",
    "        x.append(x_new)\n",
    "        \n",
    "    return (x, it)"
   ],
   "outputs": [],
   "metadata": {}
  },
  {
   "cell_type": "markdown",
   "source": [
    "* Trường hợp 1: $x_0 = -5$ và learning rate $\\boldsymbol{n} = 0.1$"
   ],
   "metadata": {}
  },
  {
   "cell_type": "code",
   "execution_count": 2,
   "source": [
    "x1, it1 = myGD1(-5, .1)\n",
    "\n",
    "print(f\"Số lần học: {it1}\")\n",
    "print(f\"Chi phí: {x1}\")"
   ],
   "outputs": [
    {
     "output_type": "stream",
     "name": "stdout",
     "text": [
      "Số lần học: 11\n",
      "Chi phí: [-5, -4.141831092731613, -3.0434140487394945, -1.9371390635788721, -1.370609623535342, -1.1959138533062952, -1.1398126662660861, -1.1207324901805855, -1.1140974995041208, -1.1117718342401366, -1.1109543623859697, -1.1106667365268623]\n"
     ]
    }
   ],
   "metadata": {}
  },
  {
   "cell_type": "markdown",
   "source": [
    "* Trường hợp 2: $x_0 = 5$ và learning rate $\\boldsymbol{n} = 0.1$"
   ],
   "metadata": {}
  },
  {
   "cell_type": "code",
   "execution_count": 3,
   "source": [
    "x2, it2 = myGD1(5, .1)\n",
    "\n",
    "print(f\"Số lần học: {it2}\")\n",
    "print(f\"Chi phí: {x2}\")"
   ],
   "outputs": [
    {
     "output_type": "stream",
     "name": "stdout",
     "text": [
      "Số lần học: 29\n",
      "Chi phí: [5, 3.8581689072683867, 3.463564567930569, 3.2451582916682646, 3.0934475688734215, 2.9741786797296776, 2.8723524342019475, 2.7798685851337033, 2.691538912182054, 2.6034429924417726, 2.512083663118539, 2.413825273788166, 2.3043909242955314, 2.178284700900974, 2.028031263811057, 1.8431593967550366, 1.6090315913519224, 1.3063382475764564, 0.9143774850440367, 0.42636006838025575, -0.11415049832376245, -0.5880663503407273, -0.8864605464168874, -1.0252476809653677, -1.079641732011138, -1.0995355411928174, -1.1066334337506414, -1.1091439570842945, -1.1100292207856688, -1.1103410483948122]\n"
     ]
    }
   ],
   "metadata": {}
  },
  {
   "cell_type": "code",
   "execution_count": null,
   "source": [],
   "outputs": [],
   "metadata": {}
  }
 ],
 "metadata": {
  "orig_nbformat": 4,
  "language_info": {
   "name": "python",
   "version": "3.8.10",
   "mimetype": "text/x-python",
   "codemirror_mode": {
    "name": "ipython",
    "version": 3
   },
   "pygments_lexer": "ipython3",
   "nbconvert_exporter": "python",
   "file_extension": ".py"
  },
  "kernelspec": {
   "name": "python3",
   "display_name": "Python 3.8.10 64-bit"
  },
  "interpreter": {
   "hash": "31f2aee4e71d21fbe5cf8b01ff0e069b9275f58929596ceb00d14d90e3e16cd6"
  }
 },
 "nbformat": 4,
 "nbformat_minor": 2
}