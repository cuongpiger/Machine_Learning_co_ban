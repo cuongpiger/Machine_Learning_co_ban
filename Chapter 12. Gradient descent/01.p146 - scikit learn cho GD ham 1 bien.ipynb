{
 "cells": [
  {
   "cell_type": "markdown",
   "source": [
    "* Tạo $1000$ điểm dữ liệu sao cho gần với đường thẳng $y = 4 + 3x$."
   ],
   "metadata": {}
  },
  {
   "cell_type": "code",
   "execution_count": 1,
   "source": [
    "from sklearn.linear_model import LinearRegression\n",
    "import numpy as np\n",
    "np.random.seed(2)\n",
    "\n",
    "\n",
    "X = np.random.rand(1000)\n",
    "y = 4 + 3*X + .5*np.random.randn(1000)"
   ],
   "outputs": [],
   "metadata": {}
  },
  {
   "cell_type": "code",
   "execution_count": 4,
   "source": [
    "model = LinearRegression()\n",
    "model.fit(X.reshape(-1, 1), y.reshape(-1, 1))\n",
    "\n",
    "w, b = model.coef_[0][0], model.intercept_[0]\n",
    "sol_sklearn = np.array([b, w])\n",
    "\n",
    "print(f\"[b, w] = {sol_sklearn}\")"
   ],
   "outputs": [
    {
     "output_type": "stream",
     "name": "stdout",
     "text": [
      "[b, w] = [3.99806202 3.03216519]\n"
     ]
    }
   ],
   "metadata": {}
  },
  {
   "cell_type": "code",
   "execution_count": null,
   "source": [],
   "outputs": [],
   "metadata": {}
  }
 ],
 "metadata": {
  "orig_nbformat": 4,
  "language_info": {
   "name": "python",
   "version": "3.8.10",
   "mimetype": "text/x-python",
   "codemirror_mode": {
    "name": "ipython",
    "version": 3
   },
   "pygments_lexer": "ipython3",
   "nbconvert_exporter": "python",
   "file_extension": ".py"
  },
  "kernelspec": {
   "name": "python3",
   "display_name": "Python 3.8.10 64-bit"
  },
  "interpreter": {
   "hash": "916dbcbb3f70747c44a77c7bcd40155683ae19c65e1c03b4aa3499c5328201f1"
  }
 },
 "nbformat": 4,
 "nbformat_minor": 2
}