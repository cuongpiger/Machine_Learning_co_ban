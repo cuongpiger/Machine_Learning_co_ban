{
 "cells": [
  {
   "cell_type": "code",
   "execution_count": 1,
   "source": [
    "import numpy as np\n",
    "np.random.seed(2)"
   ],
   "outputs": [],
   "metadata": {}
  },
  {
   "cell_type": "code",
   "execution_count": 2,
   "source": [
    "X = np.random.rand(1000, 1)\n",
    "y = X**2 + 10*np.sin(X) + .2*np.random.randn(1000, 1)\n",
    "\n",
    "one = np.ones((X.shape[0], 1))\n",
    "Xbar = np.concatenate((one, X), axis = 1)"
   ],
   "outputs": [],
   "metadata": {}
  },
  {
   "cell_type": "code",
   "execution_count": 3,
   "source": [
    "def grad(theta):\n",
    "    N = Xbar.shape[0]\n",
    "    return 1/N * Xbar.T.dot(Xbar.dot(theta) - y)\n",
    "\n",
    "\n",
    "def has_coverged(theta_new, grad):\n",
    "    return np.linalg.norm(grad(theta_new)) / len(theta_new) < 1e-3\n",
    "\n",
    "\n",
    "def GD_momentum(theta_init, grad, eta, gamma):\n",
    "    \"\"\"\n",
    "    Args:\n",
    "        theta_init ([type]): điểm đặt bi ban đầu\n",
    "        grad (def): đạo hàm\n",
    "        eta ([type]): learning rate\n",
    "        gamma ([type]): đà\n",
    "    \"\"\"\n",
    "    theta = [theta_init]\n",
    "    v_old = np.zeros_like(theta_init)\n",
    "    \n",
    "    for it in range(100):\n",
    "        v_new = gamma*v_old + eta*grad(theta[-1])\n",
    "        theta_new = theta[-1] - v_new\n",
    "        \n",
    "        if has_coverged(theta_new, grad):\n",
    "            N = Xbar.shape[0]\n",
    "            loss = 1/N * Xbar.T.dot(Xbar.dot(theta_new) - y)\n",
    "            \n",
    "            print(loss)\n",
    "            \n",
    "            break\n",
    "        \n",
    "        theta.append(theta_new)\n",
    "        v_old = v_new\n",
    "        \n",
    "    return theta"
   ],
   "outputs": [],
   "metadata": {}
  },
  {
   "cell_type": "code",
   "execution_count": 4,
   "source": [
    "theta_init = np.array([[5], [1]])\n",
    "theta = GD_momentum(theta_init, grad, .1, .9)"
   ],
   "outputs": [
    {
     "output_type": "stream",
     "name": "stdout",
     "text": [
      "[[0.00043869]\n",
      " [0.00166864]]\n"
     ]
    }
   ],
   "metadata": {}
  },
  {
   "cell_type": "code",
   "execution_count": 5,
   "source": [
    "theta[-1]"
   ],
   "outputs": [
    {
     "output_type": "execute_result",
     "data": {
      "text/plain": [
       "array([[0.14910284],\n",
       "       [9.55905297]])"
      ]
     },
     "metadata": {},
     "execution_count": 5
    }
   ],
   "metadata": {}
  }
 ],
 "metadata": {
  "orig_nbformat": 4,
  "language_info": {
   "name": "python",
   "version": "3.8.10",
   "mimetype": "text/x-python",
   "codemirror_mode": {
    "name": "ipython",
    "version": 3
   },
   "pygments_lexer": "ipython3",
   "nbconvert_exporter": "python",
   "file_extension": ".py"
  },
  "kernelspec": {
   "name": "python3",
   "display_name": "Python 3.8.10 64-bit"
  },
  "interpreter": {
   "hash": "31f2aee4e71d21fbe5cf8b01ff0e069b9275f58929596ceb00d14d90e3e16cd6"
  }
 },
 "nbformat": 4,
 "nbformat_minor": 2
}